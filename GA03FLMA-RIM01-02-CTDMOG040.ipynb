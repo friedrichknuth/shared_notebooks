{
 "cells": [
  {
   "cell_type": "markdown",
   "metadata": {},
   "source": [
    "## Plotting Time Series Data from NetCDF\n",
    "\n",
    "In this example we show how to programatically download and work with OOI NetCDF time series data. We will use data from the Global Argentine Basin Flanking Subsurface Mooring A Mooring Riser CTD at 30 m. You will learn:\n",
    "\n",
    "* how to find the data you are looking for\n",
    "* how to use the machine to machine API to request data\n",
    "* how to load the NetCDF data into your notebook, once the data request has completed\n",
    "* how to plot data\n",
    "\n",
    "For the instrument in this example, you will need the Reference Designator, Stream and Data Delivery Method to make the request to the M2M API. More information about the instrument can be found here:\n",
    "http://ooi.visualocean.net/instruments/view/GA03FLMA-RIM01-02-CTDMOG040\n",
    "\n",
    "![GA03FLMA-RIM01-02-CTDMOG040](https://github.com/ooi-data-review/ooi_datateam_notebooks/raw/master/images/GA03FLMA-RIM01-02-CTDMOG040.png)"
   ]
  },
  {
   "cell_type": "code",
   "execution_count": 3,
   "metadata": {},
   "outputs": [],
   "source": [
    "import requests\n",
    "import time"
   ]
  },
  {
   "cell_type": "markdown",
   "metadata": {},
   "source": [
    "Login in at https://ooinet.oceanobservatories.org/ and obtain your <b>API username and API token</b> under your profile (top right corner), or use the credentials provided below."
   ]
  },
  {
   "cell_type": "code",
   "execution_count": 4,
   "metadata": {},
   "outputs": [],
   "source": [
    "username = 'OOIAPI-D8S960UXPK4K03'\n",
    "token = 'IXL48EQ2XY'"
   ]
  },
  {
   "cell_type": "markdown",
   "metadata": {},
   "source": [
    "Specify your inputs."
   ]
  },
  {
   "cell_type": "code",
   "execution_count": 10,
   "metadata": {},
   "outputs": [],
   "source": [
    "subsite = 'GA03FLMA'\n",
    "node = 'RIM01'\n",
    "sensor = '02-CTDMOG040'\n",
    "method = 'recovered_inst'\n",
    "stream = 'ctdmo_ghqr_instrument_recovered'\n",
    "beginDT = '2016-06-01T00:00:00.000Z' # this time range encompasses all three deployments of this instrument.\n",
    "endDT = '2016-06-02T23:59:59.999Z'"
   ]
  },
  {
   "cell_type": "markdown",
   "metadata": {},
   "source": [
    "Build the GET request URL and send the request to the M2M API endpoint."
   ]
  },
  {
   "cell_type": "code",
   "execution_count": 11,
   "metadata": {},
   "outputs": [],
   "source": [
    "base_url = 'https://ooinet.oceanobservatories.org/api/m2m/12576/sensor/inv'\n",
    "\n",
    "data_request_url ='/'.join((base_url,subsite,node,sensor,method,stream))\n",
    "params = {\n",
    "    'beginDT':beginDT,\n",
    "    'endDT':endDT,   \n",
    "}\n",
    "r = requests.get(data_request_url, params=params, auth=(username, token))\n",
    "data = r.json()"
   ]
  },
  {
   "cell_type": "code",
   "execution_count": 12,
   "metadata": {},
   "outputs": [
    {
     "data": {
      "text/plain": [
       "'https://opendap.oceanobservatories.org/thredds/catalog/ooi/ooidatateam@gmail.com/20180521T185633-GA03FLMA-RIM01-02-CTDMOG040-recovered_inst-ctdmo_ghqr_instrument_recovered/catalog.html'"
      ]
     },
     "execution_count": 12,
     "metadata": {},
     "output_type": "execute_result"
    }
   ],
   "source": [
    "data['allURLs'][0]"
   ]
  },
  {
   "cell_type": "markdown",
   "metadata": {},
   "source": [
    "Check if the request has completed."
   ]
  },
  {
   "cell_type": "code",
   "execution_count": 13,
   "metadata": {},
   "outputs": [
    {
     "name": "stdout",
     "output_type": "stream",
     "text": [
      "request completed\n",
      "CPU times: user 502 ms, sys: 35.5 ms, total: 538 ms\n",
      "Wall time: 30.4 s\n"
     ]
    }
   ],
   "source": [
    "%%time\n",
    "check_complete = data['allURLs'][1] + '/status.txt'\n",
    "for i in range(1800): \n",
    "    r = requests.get(check_complete)\n",
    "    if r.status_code == requests.codes.ok:\n",
    "        print('request completed')\n",
    "        break\n",
    "    else:\n",
    "        time.sleep(1)"
   ]
  },
  {
   "cell_type": "code",
   "execution_count": 14,
   "metadata": {},
   "outputs": [],
   "source": [
    "import re\n",
    "import xarray as xr\n",
    "import pandas as pd\n",
    "import os"
   ]
  },
  {
   "cell_type": "markdown",
   "metadata": {},
   "source": [
    "Parse the thredds server to get a list of all NetCDF files. Each deployment is seperated into a seperate netcdf file."
   ]
  },
  {
   "cell_type": "code",
   "execution_count": 15,
   "metadata": {},
   "outputs": [
    {
     "data": {
      "text/plain": [
       "['https://opendap.oceanobservatories.org/thredds/dodsC/ooi/ooidatateam@gmail.com/20180521T185633-GA03FLMA-RIM01-02-CTDMOG040-recovered_inst-ctdmo_ghqr_instrument_recovered/deployment0002_GA03FLMA-RIM01-02-CTDMOG040-recovered_inst-ctdmo_ghqr_instrument_recovered_20160601T000001-20160602T234501.nc']"
      ]
     },
     "execution_count": 15,
     "metadata": {},
     "output_type": "execute_result"
    }
   ],
   "source": [
    "url = data['allURLs'][0]\n",
    "tds_url = 'https://opendap.oceanobservatories.org/thredds/dodsC'\n",
    "datasets = requests.get(url).text\n",
    "urls = re.findall(r'href=[\\'\"]?([^\\'\" >]+)', datasets)\n",
    "x = re.findall(r'(ooi/.*?.nc)', datasets)\n",
    "for i in x:\n",
    "    if i.endswith('.nc') == False:\n",
    "        x.remove(i)\n",
    "for i in x:\n",
    "    try:\n",
    "        float(i[-4])\n",
    "    except:\n",
    "        x.remove(i)\n",
    "datasets = [os.path.join(tds_url, i) for i in x]\n",
    "datasets"
   ]
  },
  {
   "cell_type": "markdown",
   "metadata": {},
   "source": [
    "Load all files into a single xarray dataset."
   ]
  },
  {
   "cell_type": "code",
   "execution_count": 16,
   "metadata": {},
   "outputs": [
    {
     "data": {
      "text/plain": [
       "<xarray.Dataset>\n",
       "Dimensions:                                  (time: 192)\n",
       "Coordinates:\n",
       "    obs                                      (time) int32 dask.array<shape=(192,), chunksize=(100,)>\n",
       "  * time                                     (time) datetime64[ns] 2016-06-01T00:00:01 ...\n",
       "    pressure                                 (time) float64 dask.array<shape=(192,), chunksize=(100,)>\n",
       "    lat                                      (time) float64 dask.array<shape=(192,), chunksize=(100,)>\n",
       "    lon                                      (time) float64 dask.array<shape=(192,), chunksize=(100,)>\n",
       "Data variables:\n",
       "    deployment                               (time) int32 dask.array<shape=(192,), chunksize=(100,)>\n",
       "    id                                       (time) |S64 dask.array<shape=(192,), chunksize=(100,)>\n",
       "    conductivity                             (time) float64 dask.array<shape=(192,), chunksize=(100,)>\n",
       "    ctd_time                                 (time) datetime64[ns] dask.array<shape=(192,), chunksize=(100,)>\n",
       "    driver_timestamp                         (time) datetime64[ns] dask.array<shape=(192,), chunksize=(100,)>\n",
       "    inductive_id                             (time) float32 dask.array<shape=(192,), chunksize=(100,)>\n",
       "    ingestion_timestamp                      (time) datetime64[ns] dask.array<shape=(192,), chunksize=(100,)>\n",
       "    internal_timestamp                       (time) datetime64[ns] dask.array<shape=(192,), chunksize=(100,)>\n",
       "    port_timestamp                           (time) datetime64[ns] dask.array<shape=(192,), chunksize=(100,)>\n",
       "    preferred_timestamp                      (time) object dask.array<shape=(192,), chunksize=(100,)>\n",
       "    pressure_temp                            (time) float64 dask.array<shape=(192,), chunksize=(100,)>\n",
       "    provenance                               (time) |S64 dask.array<shape=(192,), chunksize=(100,)>\n",
       "    serial_number                            (time) object dask.array<shape=(192,), chunksize=(100,)>\n",
       "    temperature                              (time) float64 dask.array<shape=(192,), chunksize=(100,)>\n",
       "    ctdmo_seawater_pressure                  (time) float64 dask.array<shape=(192,), chunksize=(100,)>\n",
       "    ctdmo_seawater_temperature               (time) float64 dask.array<shape=(192,), chunksize=(100,)>\n",
       "    ctdmo_seawater_conductivity              (time) float64 dask.array<shape=(192,), chunksize=(100,)>\n",
       "    practical_salinity                       (time) float64 dask.array<shape=(192,), chunksize=(100,)>\n",
       "    density                                  (time) float64 dask.array<shape=(192,), chunksize=(100,)>\n",
       "    ctdmo_seawater_pressure_qc_executed      (time) float32 dask.array<shape=(192,), chunksize=(100,)>\n",
       "    ctdmo_seawater_pressure_qc_results       (time) float32 dask.array<shape=(192,), chunksize=(100,)>\n",
       "    ctdmo_seawater_temperature_qc_executed   (time) float32 dask.array<shape=(192,), chunksize=(100,)>\n",
       "    ctdmo_seawater_temperature_qc_results    (time) float32 dask.array<shape=(192,), chunksize=(100,)>\n",
       "    ctdmo_seawater_conductivity_qc_executed  (time) float32 dask.array<shape=(192,), chunksize=(100,)>\n",
       "    ctdmo_seawater_conductivity_qc_results   (time) float32 dask.array<shape=(192,), chunksize=(100,)>\n",
       "    density_qc_executed                      (time) float32 dask.array<shape=(192,), chunksize=(100,)>\n",
       "    density_qc_results                       (time) float32 dask.array<shape=(192,), chunksize=(100,)>\n",
       "    practical_salinity_qc_executed           (time) float32 dask.array<shape=(192,), chunksize=(100,)>\n",
       "    practical_salinity_qc_results            (time) float32 dask.array<shape=(192,), chunksize=(100,)>\n",
       "Attributes:\n",
       "    _NCProperties:                      version=1|netcdflibversion=4.4.1.1|hd...\n",
       "    node:                               RIM01\n",
       "    comment:                            \n",
       "    publisher_email:                    \n",
       "    sourceUrl:                          http://oceanobservatories.org/\n",
       "    collection_method:                  recovered_inst\n",
       "    stream:                             ctdmo_ghqr_instrument_recovered\n",
       "    featureType:                        point\n",
       "    creator_email:                      \n",
       "    publisher_name:                     Ocean Observatories Initiative\n",
       "    date_modified:                      2018-05-21T18:56:44.208144\n",
       "    keywords:                           \n",
       "    cdm_data_type:                      Point\n",
       "    references:                         More information can be found at http...\n",
       "    Metadata_Conventions:               Unidata Dataset Discovery v1.0\n",
       "    date_created:                       2018-05-21T18:56:44.208138\n",
       "    id:                                 GA03FLMA-RIM01-02-CTDMOG040-recovered...\n",
       "    requestUUID:                        90967e60-ed5d-4d40-a51e-793408e3d8b9\n",
       "    contributor_role:                   \n",
       "    summary:                            Dataset Generated by Stream Engine fr...\n",
       "    keywords_vocabulary:                \n",
       "    institution:                        Ocean Observatories Initiative\n",
       "    naming_authority:                   org.oceanobservatories\n",
       "    feature_Type:                       point\n",
       "    infoUrl:                            http://oceanobservatories.org/\n",
       "    license:                            \n",
       "    contributor_name:                   \n",
       "    uuid:                               90967e60-ed5d-4d40-a51e-793408e3d8b9\n",
       "    creator_name:                       Ocean Observatories Initiative\n",
       "    title:                              Data produced by Stream Engine versio...\n",
       "    sensor:                             02-CTDMOG040\n",
       "    standard_name_vocabulary:           NetCDF Climate and Forecast (CF) Meta...\n",
       "    acknowledgement:                    \n",
       "    Conventions:                        CF-1.6\n",
       "    project:                            Ocean Observatories Initiative\n",
       "    source:                             GA03FLMA-RIM01-02-CTDMOG040-recovered...\n",
       "    publisher_url:                      http://oceanobservatories.org/\n",
       "    creator_url:                        http://oceanobservatories.org/\n",
       "    nodc_template_version:              NODC_NetCDF_TimeSeries_Orthogonal_Tem...\n",
       "    subsite:                            GA03FLMA\n",
       "    processing_level:                   L2\n",
       "    history:                            2018-05-21T18:56:44.208062 generated ...\n",
       "    Manufacturer:                       Sea-Bird Electronics\n",
       "    ModelNumber:                        SBE 37-IM\n",
       "    SerialNumber:                       37-13560\n",
       "    Description:                        CTD Mooring (Inductive): CTDMO Series G\n",
       "    FirmwareVersion:                    Not specified.\n",
       "    SoftwareVersion:                    Not specified.\n",
       "    AssetUniqueID:                      CGINS-CTDMOG-13560\n",
       "    Notes:                              Not specified.\n",
       "    Owner:                              Woods Hole Oceanographic Institution\n",
       "    RemoteResources:                    []\n",
       "    ShelfLifeExpirationDate:            Not specified.\n",
       "    Mobile:                             False\n",
       "    AssetManagementRecordLastModified:  2018-05-21T12:22:47.870000\n",
       "    time_coverage_start:                2016-06-01T00:00:01\n",
       "    time_coverage_end:                  2016-06-02T23:45:01\n",
       "    time_coverage_resolution:           P895.31S\n",
       "    geospatial_lat_min:                 -42.49457\n",
       "    geospatial_lat_max:                 -42.49457\n",
       "    geospatial_lat_units:               degrees_north\n",
       "    geospatial_lat_resolution:          0.1\n",
       "    geospatial_lon_min:                 -42.92112\n",
       "    geospatial_lon_max:                 -42.92112\n",
       "    geospatial_lon_units:               degrees_east\n",
       "    geospatial_lon_resolution:          0.1\n",
       "    geospatial_vertical_units:          meters\n",
       "    geospatial_vertical_resolution:     0.1\n",
       "    geospatial_vertical_positive:       down\n",
       "    DODS.strlen:                        7\n",
       "    DODS.dimName:                       string7\n",
       "    DODS_EXTRA.Unlimited_Dimension:     obs"
      ]
     },
     "execution_count": 16,
     "metadata": {},
     "output_type": "execute_result"
    }
   ],
   "source": [
    "ds = xr.open_mfdataset(datasets)\n",
    "ds = ds.swap_dims({'obs': 'time'})\n",
    "ds = ds.chunk({'time': 100})\n",
    "ds = ds.sortby('time') # data from different deployments can overlap so we want to sort all data by time stamp.\n",
    "ds"
   ]
  },
  {
   "cell_type": "markdown",
   "metadata": {},
   "source": [
    "Plot the dataset using matplotlib, working under the hood of xarray."
   ]
  },
  {
   "cell_type": "code",
   "execution_count": 17,
   "metadata": {},
   "outputs": [],
   "source": [
    "import matplotlib.pyplot as plt"
   ]
  },
  {
   "cell_type": "code",
   "execution_count": 20,
   "metadata": {},
   "outputs": [
    {
     "data": {
      "image/png": "[encoded data removed]",
      "text/plain": [
       "<Figure size 1152x432 with 1 Axes>"
      ]
     },
     "metadata": {},
     "output_type": "display_data"
    }
   ],
   "source": [
    "fig, ax = plt.subplots(1)\n",
    "fig.set_size_inches(16, 6)\n",
    "\n",
    "ds['ctdmo_seawater_pressure'].plot(linestyle = 'None', \n",
    "                                   marker='.', \n",
    "                                   markersize=3,\n",
    "                                   ax=ax)\n",
    "\n",
    "ax.invert_yaxis()\n",
    "ax.grid()\n",
    "\n",
    "plt.title('Global Argentine Basin Flanking Subsurface Mooring A Mooring Riser CTD (30 m)')\n",
    "plt.ylabel('Pressure (dbar)')\n",
    "plt.xlabel('Time \\n Deployments 1 - 3')\n",
    "plt.show()"
   ]
  },
  {
   "cell_type": "markdown",
   "metadata": {},
   "source": [
    "This CTD is supposed to be stationary at around 30 m depth in the water column, but violent storms in the southern himisphere can draw the CTD mooring chain down by hundreds of meters. More information about the Flanking Subsurface Mooring A can be found [here](http://oceanobservatories.org/site/ga03flma/)."
   ]
  }
 ],
 "metadata": {
  "kernelspec": {
   "display_name": "ooi",
   "language": "python",
   "name": "ooi"
  },
  "language_info": {
   "codemirror_mode": {
    "name": "ipython",
    "version": 3
   },
   "file_extension": ".py",
   "mimetype": "text/x-python",
   "name": "python",
   "nbconvert_exporter": "python",
   "pygments_lexer": "ipython3",
   "version": "3.6.5"
  }
 },
 "nbformat": 4,
 "nbformat_minor": 2
}
