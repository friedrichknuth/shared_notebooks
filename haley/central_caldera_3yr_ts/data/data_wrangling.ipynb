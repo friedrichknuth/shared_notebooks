{
 "cells": [
  {
   "cell_type": "code",
   "execution_count": 16,
   "metadata": {},
   "outputs": [],
   "source": [
    "import matplotlib.pyplot as plt\n",
    "import xarray as xr\n",
    "import pandas as pd\n",
    "import pickle as pk\n",
    "import re\n",
    "import requests\n",
    "import subprocess\n",
    "import os\n",
    "import gc"
   ]
  },
  {
   "cell_type": "code",
   "execution_count": 18,
   "metadata": {},
   "outputs": [],
   "source": [
    "url = 'https://opendap.oceanobservatories.org/thredds/catalog/ooi/friedrich.knuth@rutgers.edu/20171207T161702-RS03CCAL-MJ03F-05-BOTPTA301-streamed-botpt_nano_sample/catalog.html'\n",
    "tds_url = 'https://opendap.oceanobservatories.org/thredds/dodsC'\n",
    "datasets = requests.get(url).text\n",
    "urls = re.findall(r'href=[\\'\"]?([^\\'\" >]+)', datasets)\n",
    "x = re.findall(r'(ooi/.*?.nc)', datasets)\n",
    "for i in x:\n",
    "    if i.endswith('.nc') == False:\n",
    "        x.remove(i)\n",
    "for i in x:\n",
    "    try:\n",
    "        float(i[-4])\n",
    "    except:\n",
    "        x.remove(i)\n",
    "datasets = [os.path.join(tds_url, i) for i in x]"
   ]
  },
  {
   "cell_type": "code",
   "execution_count": 20,
   "metadata": {},
   "outputs": [],
   "source": [
    "# make the output directory\n",
    "new_dir = 'minute_mean_data/'\n",
    "if not os.path.isdir(new_dir):\n",
    "    try:\n",
    "        os.makedirs(new_dir)\n",
    "    except OSError:\n",
    "        if os.path.exists(new_dir):\n",
    "            pass\n",
    "        else:\n",
    "            raise"
   ]
  },
  {
   "cell_type": "code",
   "execution_count": 27,
   "metadata": {},
   "outputs": [],
   "source": [
    "# read in the data directly off THREDDS and write out as subsampled pickled pandas dataframe\n",
    "num = 0\n",
    "for i in datasets:\n",
    "    ds = xr.open_dataset(i)\n",
    "    ds = ds.swap_dims({'obs': 'time'})\n",
    "\n",
    "    pressure_min = pd.DataFrame()\n",
    "    pressure_min['bottom_pressure'] = ds['bottom_pressure'].to_pandas().resample('T').mean()\n",
    "    del pressure_min.index.name\n",
    "\n",
    "    pressure_min = pressure_min.dropna()\n",
    "\n",
    "    out = 'minute_mean_data/' + i.split('/')[-1][:-3] + '_resampled' + '.pd'\n",
    "    num = num +1\n",
    "\n",
    "    with open(out, 'wb') as fh:\n",
    "        pk.dump(pressure_min,fh)\n",
    "\n",
    "    gc.collect()"
   ]
  },
  {
   "cell_type": "code",
   "execution_count": null,
   "metadata": {},
   "outputs": [],
   "source": [
    "# create a single file with all the pickled data.\n",
    "pressure_min = pd.DataFrame()\n",
    "for path, subdirs, files in os.walk('minute_mean_data/'):\n",
    "    for name in files:\n",
    "        file_name = os.path.join(path, name) \n",
    "        with open(file_name, 'rb') as f:\n",
    "            pd_df = pk.load(f)\n",
    "            pressure_min = pressure_min.append(pd_df)\n",
    "\n",
    "with open('bottom_pressure.pd', 'wb') as f:\n",
    "    pk.dump(pressure_min,f)"
   ]
  }
 ],
 "metadata": {
  "kernelspec": {
   "display_name": "ooi",
   "language": "python",
   "name": "ooi"
  },
  "language_info": {
   "codemirror_mode": {
    "name": "ipython",
    "version": 3
   },
   "file_extension": ".py",
   "mimetype": "text/x-python",
   "name": "python",
   "nbconvert_exporter": "python",
   "pygments_lexer": "ipython3",
   "version": "3.6.5"
  }
 },
 "nbformat": 4,
 "nbformat_minor": 2
}
